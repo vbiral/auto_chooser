{
 "cells": [
  {
   "cell_type": "markdown",
   "metadata": {},
   "source": [
    "# Bibliotecas Basicas"
   ]
  },
  {
   "cell_type": "code",
   "execution_count": 1,
   "metadata": {
    "ExecuteTime": {
     "end_time": "2020-05-03T04:27:26.765047Z",
     "start_time": "2020-05-03T04:27:26.015116Z"
    }
   },
   "outputs": [],
   "source": [
    "import pandas as pd\n",
    "import numpy as np\n",
    "import re"
   ]
  },
  {
   "cell_type": "markdown",
   "metadata": {},
   "source": [
    "# Importar base de teste"
   ]
  },
  {
   "cell_type": "code",
   "execution_count": 2,
   "metadata": {
    "ExecuteTime": {
     "end_time": "2020-05-03T04:27:31.483470Z",
     "start_time": "2020-05-03T04:27:31.342856Z"
    }
   },
   "outputs": [],
   "source": [
    "df = pd.read_excel('df_teste.xlsx')"
   ]
  },
  {
   "cell_type": "code",
   "execution_count": 218,
   "metadata": {
    "ExecuteTime": {
     "end_time": "2020-05-03T04:14:25.523714Z",
     "start_time": "2020-05-03T04:14:25.492469Z"
    }
   },
   "outputs": [
    {
     "data": {
      "text/html": [
       "<div>\n",
       "<style scoped>\n",
       "    .dataframe tbody tr th:only-of-type {\n",
       "        vertical-align: middle;\n",
       "    }\n",
       "\n",
       "    .dataframe tbody tr th {\n",
       "        vertical-align: top;\n",
       "    }\n",
       "\n",
       "    .dataframe thead th {\n",
       "        text-align: right;\n",
       "    }\n",
       "</style>\n",
       "<table border=\"1\" class=\"dataframe\">\n",
       "  <thead>\n",
       "    <tr style=\"text-align: right;\">\n",
       "      <th></th>\n",
       "      <th>cpf</th>\n",
       "      <th>telefone</th>\n",
       "      <th>cep</th>\n",
       "      <th>email</th>\n",
       "      <th>data</th>\n",
       "    </tr>\n",
       "  </thead>\n",
       "  <tbody>\n",
       "    <tr>\n",
       "      <th>0</th>\n",
       "      <td>85417173000162</td>\n",
       "      <td>90959190266</td>\n",
       "      <td>32114628</td>\n",
       "      <td>ultricies.dignissim@eratin.org</td>\n",
       "      <td>01/08/2020</td>\n",
       "    </tr>\n",
       "    <tr>\n",
       "      <th>1</th>\n",
       "      <td>2385763000123</td>\n",
       "      <td>38957073650</td>\n",
       "      <td>89814410</td>\n",
       "      <td>sed@molestiein.edu</td>\n",
       "      <td>20/01/2020</td>\n",
       "    </tr>\n",
       "    <tr>\n",
       "      <th>2</th>\n",
       "      <td>62646376000125</td>\n",
       "      <td>34946313517</td>\n",
       "      <td>40744884</td>\n",
       "      <td>euismod@eratvolutpatNulla.ca</td>\n",
       "      <td>10/09/2020</td>\n",
       "    </tr>\n",
       "    <tr>\n",
       "      <th>3</th>\n",
       "      <td>71063580000104</td>\n",
       "      <td>25990661793</td>\n",
       "      <td>27183901</td>\n",
       "      <td>ligula.Donec.luctus@dapibus.org</td>\n",
       "      <td>20/08/2019</td>\n",
       "    </tr>\n",
       "    <tr>\n",
       "      <th>4</th>\n",
       "      <td>11162610000108</td>\n",
       "      <td>87971386524</td>\n",
       "      <td>33571414</td>\n",
       "      <td>felis@commodo.ca</td>\n",
       "      <td>26/07/2020</td>\n",
       "    </tr>\n",
       "  </tbody>\n",
       "</table>\n",
       "</div>"
      ],
      "text/plain": [
       "              cpf     telefone       cep                            email  \\\n",
       "0  85417173000162  90959190266  32114628   ultricies.dignissim@eratin.org   \n",
       "1   2385763000123  38957073650  89814410               sed@molestiein.edu   \n",
       "2  62646376000125  34946313517  40744884     euismod@eratvolutpatNulla.ca   \n",
       "3  71063580000104  25990661793  27183901  ligula.Donec.luctus@dapibus.org   \n",
       "4  11162610000108  87971386524  33571414                 felis@commodo.ca   \n",
       "\n",
       "         data  \n",
       "0  01/08/2020  \n",
       "1  20/01/2020  \n",
       "2  10/09/2020  \n",
       "3  20/08/2019  \n",
       "4  26/07/2020  "
      ]
     },
     "execution_count": 218,
     "metadata": {},
     "output_type": "execute_result"
    }
   ],
   "source": [
    "df.head()"
   ]
  },
  {
   "cell_type": "code",
   "execution_count": 3,
   "metadata": {
    "ExecuteTime": {
     "end_time": "2020-05-03T04:27:35.951912Z",
     "start_time": "2020-05-03T04:27:35.905039Z"
    }
   },
   "outputs": [
    {
     "data": {
      "text/plain": [
       "cpf         object\n",
       "telefone    object\n",
       "cep         object\n",
       "email       object\n",
       "data        object\n",
       "dtype: object"
      ]
     },
     "execution_count": 3,
     "metadata": {},
     "output_type": "execute_result"
    }
   ],
   "source": [
    "df.cpf = df.cpf.astype('str')\n",
    "df.telefone = df.telefone.astype('str')\n",
    "df.cep = df.cep.astype('str')\n",
    "df.dtypes"
   ]
  },
  {
   "cell_type": "markdown",
   "metadata": {},
   "source": [
    "# Que caracteristicas são importantes para verificar uma colunas?"
   ]
  },
  {
   "cell_type": "markdown",
   "metadata": {},
   "source": [
    "Cada possível tipo de uma coluna vai ser definido por algumas caracteristicas, como:\n",
    "* Tamanho\n",
    "* Funções de verificação de ID (por exemplo a função para verificar um CPF)\n",
    "* Porcentagem da coluna que bate nas regras"
   ]
  },
  {
   "cell_type": "markdown",
   "metadata": {},
   "source": [
    "## Exemplo de JSON de uma coluna:"
   ]
  },
  {
   "cell_type": "markdown",
   "metadata": {},
   "source": [
    "{\"name\": \"CPF\", \"rules\": \"verifica_cpf\", \"result_rules\": 1, \"min_rules\":0.9}"
   ]
  },
  {
   "cell_type": "markdown",
   "metadata": {},
   "source": [
    "O que eu quero dizer? <br/>\n",
    "Criei uma regra de CPF onde para a coluna ser considerada CPF ela deve passar na regra verifica_cpf, que podem ser tanto funções build-in quanto funções mesmo, na pasta"
   ]
  },
  {
   "cell_type": "markdown",
   "metadata": {},
   "source": [
    "## Exemplo de função:"
   ]
  },
  {
   "cell_type": "code",
   "execution_count": 4,
   "metadata": {
    "ExecuteTime": {
     "end_time": "2020-05-03T04:27:39.967261Z",
     "start_time": "2020-05-03T04:27:39.920391Z"
    }
   },
   "outputs": [],
   "source": [
    "def tamanho(x):\n",
    "    if(not isinstance(x,str)):\n",
    "        return -1\n",
    "    return len(x)\n",
    "\n",
    "def verifica_cpf(cpf):\n",
    "    if(not isinstance(cpf,str)):\n",
    "        return -1\n",
    "    \n",
    "    cpf = re.sub('[^0-9]', '', cpf)\n",
    "    \n",
    "    if(len(cpf)>11):\n",
    "        return -1\n",
    "    \n",
    "    d1=0\n",
    "    d2=0\n",
    "    i=0\n",
    "    \n",
    "    if(len(cpf) < 11):\n",
    "        cpf = cpf.rjust(11,'0')\n",
    "    \n",
    "    while i<10:\n",
    "        d1,d2,i=(d1+(int(cpf[i])*(11-i-1)))%11 if i<9 else d1,(d2+(int(cpf[i])*(11-i)))%11,i+1\n",
    "    if(int(cpf[9])==(11-d1 if d1>1 else 0)) and (int(cpf[10])==(11-d2 if d2>1 else 0)):\n",
    "        return 1\n",
    "    return 0\n",
    "\n",
    "def verifica_cnpj(cnpj):\n",
    "    if(not isinstance(cnpj,str)):\n",
    "        return -1\n",
    "    \n",
    "    cnpj = re.sub('[^0-9]', '', cnpj)\n",
    "    \n",
    "    if(len(cnpj) < 14):\n",
    "        cnpj = cnpj.rjust(14,'0')\n",
    "    \n",
    "    return 0\n",
    "\n",
    "def ddd(x):\n",
    "    return 0"
   ]
  },
  {
   "cell_type": "markdown",
   "metadata": {},
   "source": [
    "# Montando leitura de regras"
   ]
  },
  {
   "cell_type": "code",
   "execution_count": 9,
   "metadata": {
    "ExecuteTime": {
     "end_time": "2020-05-03T04:29:33.303166Z",
     "start_time": "2020-05-03T04:29:33.193829Z"
    }
   },
   "outputs": [
    {
     "name": "stdout",
     "output_type": "stream",
     "text": [
      "{'email': 'CPF'}\n"
     ]
    }
   ],
   "source": [
    "types = pd.read_json('types.json')\n",
    "possibilidades={}\n",
    "\n",
    "#Como definir uma amostra minima?\n",
    "sample = 1.0\n",
    "df_sample = df.sample(frac=sample)\n",
    "    \n",
    "#Para cada tipo existente\n",
    "for ind1, row1 in types.iterrows():\n",
    "    aux=[]\n",
    "    aux2=[]\n",
    "    \n",
    "    #Se o tipo tiver apenas uma regra, beleza...\n",
    "    try:\n",
    "        rule = pd.DataFrame(row1['Types'],index=[0])\n",
    "        \n",
    "    #Senão faz a leitura para 2+ regras\n",
    "    except:\n",
    "        rule = pd.DataFrame(row1['Types'])\n",
    "\n",
    "    #Para cada regra do tipo\n",
    "    for ind2, row2 in rule.iterrows():\n",
    "        results = df_sample.applymap(eval(row2['rules']))\n",
    "\n",
    "        #Verifico a efetividade da regra para cada coluna individualmente\n",
    "        for coluna in df_sample.columns:\n",
    "            prop_acerto = (results[results[coluna]==row2['result_rules']].shape[0])/results.shape[0]\n",
    "            if(prop_acerto >= row2['min_rules']):\n",
    "                aux.append(coluna)\n",
    "    \n",
    "    #Se todas as regras foram aceitas\n",
    "    qtd_regras = rule.shape[0]\n",
    "    for coluna in df_sample.columns:\n",
    "        aux2 = [l for l in aux if l == coluna]\n",
    "        \n",
    "        if(len(aux2) == qtd_regras):\n",
    "            dic={coluna:row2['name']}\n",
    "            possibilidades.update(dic)\n",
    "            \n",
    "print(possibilidades)"
   ]
  },
  {
   "cell_type": "code",
   "execution_count": 8,
   "metadata": {
    "ExecuteTime": {
     "end_time": "2020-05-03T04:28:54.946447Z",
     "start_time": "2020-05-03T04:28:54.915198Z"
    }
   },
   "outputs": [
    {
     "data": {
      "text/html": [
       "<div>\n",
       "<style scoped>\n",
       "    .dataframe tbody tr th:only-of-type {\n",
       "        vertical-align: middle;\n",
       "    }\n",
       "\n",
       "    .dataframe tbody tr th {\n",
       "        vertical-align: top;\n",
       "    }\n",
       "\n",
       "    .dataframe thead th {\n",
       "        text-align: right;\n",
       "    }\n",
       "</style>\n",
       "<table border=\"1\" class=\"dataframe\">\n",
       "  <thead>\n",
       "    <tr style=\"text-align: right;\">\n",
       "      <th></th>\n",
       "      <th>name</th>\n",
       "      <th>rules</th>\n",
       "      <th>result_rules</th>\n",
       "      <th>min_rules</th>\n",
       "    </tr>\n",
       "  </thead>\n",
       "  <tbody>\n",
       "    <tr>\n",
       "      <th>0</th>\n",
       "      <td>CNPJ</td>\n",
       "      <td>verifica_cnpj</td>\n",
       "      <td>1</td>\n",
       "      <td>0.9</td>\n",
       "    </tr>\n",
       "  </tbody>\n",
       "</table>\n",
       "</div>"
      ],
      "text/plain": [
       "   name          rules  result_rules  min_rules\n",
       "0  CNPJ  verifica_cnpj             1        0.9"
      ]
     },
     "execution_count": 8,
     "metadata": {},
     "output_type": "execute_result"
    }
   ],
   "source": [
    "rule"
   ]
  }
 ],
 "metadata": {
  "kernelspec": {
   "display_name": "Python 3",
   "language": "python",
   "name": "python3"
  },
  "language_info": {
   "codemirror_mode": {
    "name": "ipython",
    "version": 3
   },
   "file_extension": ".py",
   "mimetype": "text/x-python",
   "name": "python",
   "nbconvert_exporter": "python",
   "pygments_lexer": "ipython3",
   "version": "3.7.6"
  },
  "toc": {
   "base_numbering": 1,
   "nav_menu": {},
   "number_sections": true,
   "sideBar": true,
   "skip_h1_title": false,
   "title_cell": "Table of Contents",
   "title_sidebar": "Contents",
   "toc_cell": false,
   "toc_position": {
    "height": "calc(100% - 180px)",
    "left": "10px",
    "top": "150px",
    "width": "251.2px"
   },
   "toc_section_display": true,
   "toc_window_display": true
  },
  "varInspector": {
   "cols": {
    "lenName": 16,
    "lenType": 16,
    "lenVar": 40
   },
   "kernels_config": {
    "python": {
     "delete_cmd_postfix": "",
     "delete_cmd_prefix": "del ",
     "library": "var_list.py",
     "varRefreshCmd": "print(var_dic_list())"
    },
    "r": {
     "delete_cmd_postfix": ") ",
     "delete_cmd_prefix": "rm(",
     "library": "var_list.r",
     "varRefreshCmd": "cat(var_dic_list()) "
    }
   },
   "types_to_exclude": [
    "module",
    "function",
    "builtin_function_or_method",
    "instance",
    "_Feature"
   ],
   "window_display": false
  }
 },
 "nbformat": 4,
 "nbformat_minor": 2
}
