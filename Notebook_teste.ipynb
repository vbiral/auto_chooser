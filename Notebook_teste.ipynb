{
 "cells": [
  {
   "cell_type": "markdown",
   "metadata": {},
   "source": [
    "# Bibliotecas Basicas"
   ]
  },
  {
   "cell_type": "code",
   "execution_count": 1,
   "metadata": {
    "ExecuteTime": {
     "end_time": "2020-05-03T20:35:26.036168Z",
     "start_time": "2020-05-03T20:35:25.096607Z"
    }
   },
   "outputs": [],
   "source": [
    "import pandas as pd\n",
    "import numpy as np\n",
    "import re\n",
    "import dateparser\n",
    "import datetime"
   ]
  },
  {
   "cell_type": "markdown",
   "metadata": {},
   "source": [
    "# Importar base de teste"
   ]
  },
  {
   "cell_type": "code",
   "execution_count": 2,
   "metadata": {
    "ExecuteTime": {
     "end_time": "2020-05-03T20:35:26.976240Z",
     "start_time": "2020-05-03T20:35:26.871328Z"
    }
   },
   "outputs": [],
   "source": [
    "df = pd.read_excel('df_teste.xlsx')"
   ]
  },
  {
   "cell_type": "code",
   "execution_count": 3,
   "metadata": {
    "ExecuteTime": {
     "end_time": "2020-05-03T20:35:28.865280Z",
     "start_time": "2020-05-03T20:35:28.796198Z"
    }
   },
   "outputs": [
    {
     "data": {
      "text/html": [
       "<div>\n",
       "<style scoped>\n",
       "    .dataframe tbody tr th:only-of-type {\n",
       "        vertical-align: middle;\n",
       "    }\n",
       "\n",
       "    .dataframe tbody tr th {\n",
       "        vertical-align: top;\n",
       "    }\n",
       "\n",
       "    .dataframe thead th {\n",
       "        text-align: right;\n",
       "    }\n",
       "</style>\n",
       "<table border=\"1\" class=\"dataframe\">\n",
       "  <thead>\n",
       "    <tr style=\"text-align: right;\">\n",
       "      <th></th>\n",
       "      <th>cpf</th>\n",
       "      <th>telefone</th>\n",
       "      <th>cep</th>\n",
       "      <th>email</th>\n",
       "      <th>data</th>\n",
       "    </tr>\n",
       "  </thead>\n",
       "  <tbody>\n",
       "    <tr>\n",
       "      <th>0</th>\n",
       "      <td>85417173000162</td>\n",
       "      <td>90959190266</td>\n",
       "      <td>32114628</td>\n",
       "      <td>ultricies.dignissim@eratin.org</td>\n",
       "      <td>01/08/2020</td>\n",
       "    </tr>\n",
       "    <tr>\n",
       "      <th>1</th>\n",
       "      <td>2385763000123</td>\n",
       "      <td>38957073650</td>\n",
       "      <td>89814410</td>\n",
       "      <td>sed@molestiein.edu</td>\n",
       "      <td>20/01/2020</td>\n",
       "    </tr>\n",
       "    <tr>\n",
       "      <th>2</th>\n",
       "      <td>62646376000125</td>\n",
       "      <td>34946313517</td>\n",
       "      <td>40744884</td>\n",
       "      <td>euismod@eratvolutpatNulla.ca</td>\n",
       "      <td>10/09/2020</td>\n",
       "    </tr>\n",
       "    <tr>\n",
       "      <th>3</th>\n",
       "      <td>71063580000104</td>\n",
       "      <td>25990661793</td>\n",
       "      <td>27183901</td>\n",
       "      <td>ligula.Donec.luctus@dapibus.org</td>\n",
       "      <td>20/08/2019</td>\n",
       "    </tr>\n",
       "    <tr>\n",
       "      <th>4</th>\n",
       "      <td>11162610000108</td>\n",
       "      <td>87971386524</td>\n",
       "      <td>33571414</td>\n",
       "      <td>felis@commodo.ca</td>\n",
       "      <td>26/07/2020</td>\n",
       "    </tr>\n",
       "  </tbody>\n",
       "</table>\n",
       "</div>"
      ],
      "text/plain": [
       "              cpf     telefone       cep                            email  \\\n",
       "0  85417173000162  90959190266  32114628   ultricies.dignissim@eratin.org   \n",
       "1   2385763000123  38957073650  89814410               sed@molestiein.edu   \n",
       "2  62646376000125  34946313517  40744884     euismod@eratvolutpatNulla.ca   \n",
       "3  71063580000104  25990661793  27183901  ligula.Donec.luctus@dapibus.org   \n",
       "4  11162610000108  87971386524  33571414                 felis@commodo.ca   \n",
       "\n",
       "         data  \n",
       "0  01/08/2020  \n",
       "1  20/01/2020  \n",
       "2  10/09/2020  \n",
       "3  20/08/2019  \n",
       "4  26/07/2020  "
      ]
     },
     "execution_count": 3,
     "metadata": {},
     "output_type": "execute_result"
    }
   ],
   "source": [
    "df.head()"
   ]
  },
  {
   "cell_type": "code",
   "execution_count": 4,
   "metadata": {
    "ExecuteTime": {
     "end_time": "2020-05-03T20:35:30.446611Z",
     "start_time": "2020-05-03T20:35:30.406608Z"
    }
   },
   "outputs": [
    {
     "data": {
      "text/plain": [
       "cpf         object\n",
       "telefone    object\n",
       "cep         object\n",
       "email       object\n",
       "data        object\n",
       "dtype: object"
      ]
     },
     "execution_count": 4,
     "metadata": {},
     "output_type": "execute_result"
    }
   ],
   "source": [
    "df.cpf = df.cpf.astype('str')\n",
    "df.telefone = df.telefone.astype('str')\n",
    "df.cep = df.cep.astype('str')\n",
    "df.data = df.data.astype('str')\n",
    "df.dtypes"
   ]
  },
  {
   "cell_type": "markdown",
   "metadata": {},
   "source": [
    "# Indentificador de Tipos"
   ]
  },
  {
   "cell_type": "markdown",
   "metadata": {},
   "source": [
    "## Funções de identificação"
   ]
  },
  {
   "cell_type": "code",
   "execution_count": 5,
   "metadata": {
    "ExecuteTime": {
     "end_time": "2020-05-03T20:36:19.356481Z",
     "start_time": "2020-05-03T20:36:19.286203Z"
    }
   },
   "outputs": [],
   "source": [
    "def verifica_cpf(cpf):\n",
    "    #Valido o CPF\n",
    "    d1=0\n",
    "    d2=0\n",
    "    i=0\n",
    "    while i<10:\n",
    "        d1,d2,i=(d1+(int(cpf[i])*(11-i-1)))%11 if i<9 else d1,(d2+(int(cpf[i])*(11-i)))%11,i+1\n",
    "    if(int(cpf[9])==(11-d1 if d1>1 else 0)) and (int(cpf[10])==(11-d2 if d2>1 else 0)):\n",
    "        return 1\n",
    "    return 0\n",
    "\n",
    "def verifica_cnpj(cnpj):\n",
    "    \n",
    "    DIVISOR = 11\n",
    "\n",
    "    CPF_WEIGHTS = ((10, 9, 8, 7, 6, 5, 4, 3, 2),\n",
    "                  (11, 10, 9, 8, 7, 6, 5, 4, 3, 2))\n",
    "    CNPJ_WEIGHTS = ((5, 4, 3, 2, 9, 8, 7, 6, 5, 4, 3, 2),\n",
    "                   (6, 5, 4, 3, 2, 9, 8, 7, 6, 5, 4, 3, 2))\n",
    "\n",
    "    first_part = cnpj[:12]\n",
    "    second_part = cnpj[:13]\n",
    "    first_digit = cnpj[12]\n",
    "    second_digit = cnpj[13]\n",
    "\n",
    "    #Calculo primeira parte do CNPJ\n",
    "    sum = 0\n",
    "    if len(first_part) == 9:\n",
    "        weights = CPF_WEIGHTS[0]\n",
    "    else:\n",
    "        weights = CNPJ_WEIGHTS[0]\n",
    "\n",
    "    for i in range(len(first_part)):\n",
    "        sum = sum + int(first_part[i]) * weights[i]\n",
    "    rest_division = sum % DIVISOR\n",
    "    \n",
    "    if rest_division < 2:\n",
    "        primeiro_digito = '0'\n",
    "    else:\n",
    "        primeiro_digito = str(11 - rest_division)\n",
    "    \n",
    "    #Calculo segunda parte do CNPJ\n",
    "    sum = 0\n",
    "    if len(second_part) == 10:\n",
    "        weights = CPF_WEIGHTS[1]\n",
    "    else:\n",
    "        weights = CNPJ_WEIGHTS[1]\n",
    "\n",
    "    for i in range(len(second_part)):\n",
    "        sum = sum + int(second_part[i]) * weights[i]\n",
    "    rest_division = sum % DIVISOR\n",
    "    \n",
    "    if rest_division < 2:\n",
    "        segundo_digito = '0'\n",
    "    else:\n",
    "        segundo_digito = str(11 - rest_division)\n",
    "\n",
    "    if (first_digit == primeiro_digito and\n",
    "        second_digit == segundo_digito):\n",
    "        return 1\n",
    "    return 0\n",
    "\n",
    "def verifica_cpf_cnpj(cpf_cnpj):\n",
    "    if(not isinstance(cpf_cnpj,str)):\n",
    "        return -1\n",
    "    \n",
    "    cpf_cnpj = re.sub('[^0-9]', '', cpf_cnpj)\n",
    "    \n",
    "    if(cpf_cnpj==''):\n",
    "        return -1\n",
    "    \n",
    "    #Elimino zeros a esquerda\n",
    "    cpf_cnpj = int(cpf_cnpj)\n",
    "    \n",
    "    #Converto novamente para string\n",
    "    cpf_cnpj = str(cpf_cnpj)\n",
    "    \n",
    "    if(len(cpf_cnpj)>14):\n",
    "        return -1\n",
    "    \n",
    "    elif(len(cpf_cnpj) > 11):\n",
    "        cpf_cnpj = cpf_cnpj.rjust(14,'0')\n",
    "    \n",
    "    elif(len(cpf_cnpj) < 11):\n",
    "        cpf_cnpj = cpf_cnpj.rjust(11,'0')\n",
    "        \n",
    "    if(len(cpf_cnpj)==11):\n",
    "        return verifica_cpf(cpf_cnpj)\n",
    "    else:\n",
    "        return verifica_cnpj(cpf_cnpj)\n",
    "\n",
    "def verifica_email(email):\n",
    "    if(not isinstance(email,str)):\n",
    "        return -1\n",
    "    \n",
    "    pattern = '[a-zA-Z0-9]+@[a-zA-Z0-9]+\\.(com|edu|net|br|org|tv|uk)'\n",
    "    if(re.search(pattern,email)):\n",
    "        return 1\n",
    "    return 0\n",
    "\n",
    "def verifica_telefone_br(tel):\n",
    "    if(not isinstance(tel,str)):\n",
    "        return -1\n",
    "    \n",
    "    tel = re.sub('[^0-9]', '', tel)\n",
    "    \n",
    "    if(tel==''):\n",
    "        return -1\n",
    "    \n",
    "    #Elimino zeros a esquerda\n",
    "    tel = int(tel)\n",
    "    \n",
    "    #Converto novamente para string\n",
    "    tel = str(tel)\n",
    "    \n",
    "    #Pego os dados do telefone\n",
    "    if(len(tel) in [13,12]):\n",
    "        ddi = tel[0:2]\n",
    "        ddd = tel[2:4]\n",
    "        nro = tel[4:]\n",
    "    elif(len(tel) in [11,10]):\n",
    "        ddi = '55'\n",
    "        ddd = tel[0:2]\n",
    "        nro = tel[2:]\n",
    "    else:\n",
    "        return 0\n",
    "    \n",
    "    if(ddi != '55'):\n",
    "        return 0\n",
    "    \n",
    "    #Fixo\n",
    "    if((len(nro)==8) and #Tamanho\n",
    "       (nro[0] in ['2','3','4','5']) and #Primeiro Digito\n",
    "       (int(ddd)>=10 and int(ddd)<=99) #DDD entre 10 e 99\n",
    "      ):\n",
    "        return 1\n",
    "    \n",
    "    #Celular\n",
    "    elif((len(nro)==9) and #Tamanho\n",
    "         (nro[0]=='9') and #Primeiro Digito\n",
    "         (int(ddd)>=10 and int(ddd)<=99) #DDD entre 10 e 99\n",
    "        ):\n",
    "        return 1\n",
    "    \n",
    "    else:\n",
    "        return 0\n",
    "    \n",
    "def verifica_cep_br(cep):\n",
    "    if(not isinstance(cep,str)):\n",
    "        return -1\n",
    "    \n",
    "    cep = re.sub('[^0-9]', '', cep)\n",
    "    \n",
    "    if(cep==''):\n",
    "        return -1\n",
    "    \n",
    "    #Elimino zeros a esquerda\n",
    "    cep = int(cep)\n",
    "    \n",
    "    #Converto novamente para string\n",
    "    cep = str(cep)\n",
    "    \n",
    "    #Uma data pode ser compreendida como CEP, assim se o verifica_data der bom quer dizer\n",
    "    #que era uma data em vez de CEP\n",
    "    #TODO -> Refazer a regra de uma forma mais estruturada\n",
    "    if(verifica_data(cep)==1):\n",
    "        return 0\n",
    "    \n",
    "    if(len(cep) <= 8):\n",
    "        cep = cep.rjust(8,'0')\n",
    "    \n",
    "    if(len(cep)>8):\n",
    "        return 0\n",
    "    #Não sei regras para verificar CEP\n",
    "    return 1\n",
    "\n",
    "def verifica_data(data):\n",
    "    if(isinstance(data,datetime.datetime)):\n",
    "        return 1\n",
    "    \n",
    "    if(not isinstance(data,str)):\n",
    "        return -1\n",
    "    \n",
    "    data_corrigida = dateparser.parse(data)\n",
    "    #O Dateparser consegue parsear até inteiros, então tem a chance de dar merda\n",
    "    #TODO -> Refazer a regra de uma forma mais estruturada\n",
    "        \n",
    "    if(isinstance(data_corrigida, datetime.datetime)):\n",
    "        if(data_corrigida.year > datetime.datetime.now().year):\n",
    "            return 0\n",
    "        elif(data_corrigida.year < 2010):\n",
    "            return 0\n",
    "        else:\n",
    "            return 1\n",
    "    else:\n",
    "        return 0"
   ]
  },
  {
   "cell_type": "markdown",
   "metadata": {},
   "source": [
    "## Montando leitura de regras"
   ]
  },
  {
   "cell_type": "code",
   "execution_count": 41,
   "metadata": {
    "ExecuteTime": {
     "end_time": "2020-05-03T19:19:15.771256Z",
     "start_time": "2020-05-03T19:19:12.814700Z"
    }
   },
   "outputs": [
    {
     "name": "stdout",
     "output_type": "stream",
     "text": [
      "{'cpf': 'CPF_CNPJ', 'email': 'Email', 'telefone': 'Telefone', 'cep': 'CEP', 'data': 'Data'}\n"
     ]
    }
   ],
   "source": [
    "types = pd.read_json('types.json')\n",
    "possibilidades={}\n",
    "\n",
    "#Como definir uma amostra minima?\n",
    "sample = 1.0\n",
    "df_sample = df.sample(frac=sample)\n",
    "    \n",
    "#Para cada tipo existente\n",
    "for ind1, row1 in types.iterrows():\n",
    "    aux=[]\n",
    "    aux2=[]\n",
    "    \n",
    "    #Se o tipo tiver apenas uma regra, beleza...\n",
    "    try:\n",
    "        rule = pd.DataFrame(row1['Types'],index=[0])\n",
    "        \n",
    "    #Senão faz a leitura para 2+ regras\n",
    "    except:\n",
    "        rule = pd.DataFrame(row1['Types'])\n",
    "\n",
    "    #Para cada regra do tipo\n",
    "    for ind2, row2 in rule.iterrows():\n",
    "        results = df_sample.applymap(eval(row2['rules']))\n",
    "\n",
    "        #Verifico a efetividade da regra para cada coluna individualmente\n",
    "        for coluna in df_sample.columns:\n",
    "            prop_acerto = (results[results[coluna]==row2['result_rules']].shape[0])/results.shape[0]\n",
    "            if(prop_acerto >= row2['min_rules']):\n",
    "                aux.append(coluna)\n",
    "    \n",
    "    #Se todas as regras foram aceitas\n",
    "    qtd_regras = rule.shape[0]\n",
    "    for coluna in df_sample.columns:\n",
    "        aux2 = [l for l in aux if l == coluna]\n",
    "        \n",
    "        if(len(aux2) == qtd_regras):\n",
    "            dic={coluna:row2['name']}\n",
    "            possibilidades.update(dic)\n",
    "            \n",
    "print(possibilidades)"
   ]
  },
  {
   "cell_type": "markdown",
   "metadata": {},
   "source": [
    "## Estruturando Classes"
   ]
  },
  {
   "cell_type": "code",
   "execution_count": null,
   "metadata": {},
   "outputs": [],
   "source": [
    "import types.py\n",
    "import pandas as pd\n",
    "import numpy as np\n",
    "import re\n",
    "import dateparser\n",
    "import datetime\n",
    "\n",
    "class auto_choose:\n",
    "    \n",
    "    def __init__(self, df: pd.DataFrame):\n",
    "        \n",
    "        self.df = df\n",
    "        self.sample = 1.0\n",
    "        \n",
    "        self.types = pd.read_json('types.json')\n",
    "        self.df_sample = self.df.sample(frac=sample)\n",
    "        \n",
    "        self.possibilidades={}\n",
    "        \n",
    "    def auto_choose():\n",
    "        for ind1, row1 in types.iterrows():\n",
    "            aux=[]\n",
    "            aux2=[]\n",
    "\n",
    "            #Se o tipo tiver apenas uma regra, beleza...\n",
    "            try:\n",
    "                rule = pd.DataFrame(row1['Types'],index=[0])\n",
    "\n",
    "            #Senão faz a leitura para 2+ regras\n",
    "            except:\n",
    "                rule = pd.DataFrame(row1['Types'])\n",
    "\n",
    "            #Para cada regra do tipo\n",
    "            for ind2, row2 in rule.iterrows():\n",
    "                results = self.df_sample.applymap(eval(row2['rules']))\n",
    "\n",
    "                #Verifico a efetividade da regra para cada coluna individualmente\n",
    "                for coluna in self.df_sample.columns:\n",
    "                    prop_acerto = (results[results[coluna]==row2['result_rules']].shape[0])/results.shape[0]\n",
    "                    if(prop_acerto >= row2['min_rules']):\n",
    "                        aux.append(coluna)\n",
    "\n",
    "            #Se todas as regras foram aceitas\n",
    "            qtd_regras = rule.shape[0]\n",
    "            for coluna in df_sample.columns:\n",
    "                aux2 = [l for l in aux if l == coluna]\n",
    "\n",
    "                if(len(aux2) == qtd_regras):\n",
    "                    dic={coluna:row2['name']}\n",
    "                    self.possibilidades.update(dic)"
   ]
  },
  {
   "cell_type": "markdown",
   "metadata": {},
   "source": [
    "## Testando Classe"
   ]
  },
  {
   "cell_type": "code",
   "execution_count": 1,
   "metadata": {
    "ExecuteTime": {
     "end_time": "2020-05-03T20:27:00.676397Z",
     "start_time": "2020-05-03T20:26:59.526683Z"
    }
   },
   "outputs": [],
   "source": [
    "import pandas as pd\n",
    "import auto_choose\n",
    "\n",
    "df = pd.read_excel('df_teste.xlsx')\n",
    "df.cpf = df.cpf.astype('str')\n",
    "df.telefone = df.telefone.astype('str')\n",
    "df.cep = df.cep.astype('str')\n",
    "df.data = df.data.astype('str')"
   ]
  },
  {
   "cell_type": "code",
   "execution_count": 2,
   "metadata": {
    "ExecuteTime": {
     "end_time": "2020-05-03T20:27:08.096405Z",
     "start_time": "2020-05-03T20:27:02.176604Z"
    },
    "run_control": {
     "marked": false
    }
   },
   "outputs": [],
   "source": [
    "x = auto_choose.auto_choose(df)\n",
    "x.auto_choose()"
   ]
  },
  {
   "cell_type": "code",
   "execution_count": 3,
   "metadata": {
    "ExecuteTime": {
     "end_time": "2020-05-03T20:27:32.736619Z",
     "start_time": "2020-05-03T20:27:32.696522Z"
    }
   },
   "outputs": [
    {
     "data": {
      "text/plain": [
       "{'cpf': 'CPF_CNPJ',\n",
       " 'email': 'Email',\n",
       " 'telefone': 'Telefone',\n",
       " 'cep': 'CEP',\n",
       " 'data': 'Data'}"
      ]
     },
     "execution_count": 3,
     "metadata": {},
     "output_type": "execute_result"
    }
   ],
   "source": [
    "x.possibilidades"
   ]
  },
  {
   "cell_type": "markdown",
   "metadata": {},
   "source": [
    "# Corrigindo as colunas"
   ]
  },
  {
   "cell_type": "markdown",
   "metadata": {},
   "source": [
    "## Funções"
   ]
  },
  {
   "cell_type": "code",
   "execution_count": null,
   "metadata": {},
   "outputs": [],
   "source": [
    "def trata_cpf_cnpj(cpf):\n",
    "    cpf_cnpj = re.sub('[^0-9]', '', cpf_cnpj)\n",
    "    \n",
    "    if(cpf_cnpj==''):\n",
    "        return ''\n",
    "    \n",
    "    #Elimino zeros a esquerda\n",
    "    cpf_cnpj = int(cpf_cnpj)\n",
    "    \n",
    "    #Converto novamente para string\n",
    "    cpf_cnpj = str(cpf_cnpj)\n",
    "    \n",
    "    if(len(cpf_cnpj) > 14):\n",
    "        return ''\n",
    "    elif(len(cpf_cnpj) > 11):\n",
    "        cpf_cnpj = cpf_cnpj.rjust(14,'0')\n",
    "    elif(len(cpf_cnpj) < 11):\n",
    "        cpf_cnpj = cpf_cnpj.rjust(11,'0')\n",
    "    \n",
    "    \n",
    "def trata_email(email):\n",
    "    \n",
    "def trata_cep(cep):\n",
    "    \n",
    "def trata_telefone(telefone):"
   ]
  }
 ],
 "metadata": {
  "kernelspec": {
   "display_name": "Python 3",
   "language": "python",
   "name": "python3"
  },
  "language_info": {
   "codemirror_mode": {
    "name": "ipython",
    "version": 3
   },
   "file_extension": ".py",
   "mimetype": "text/x-python",
   "name": "python",
   "nbconvert_exporter": "python",
   "pygments_lexer": "ipython3",
   "version": "3.7.6"
  },
  "toc": {
   "base_numbering": 1,
   "nav_menu": {},
   "number_sections": true,
   "sideBar": true,
   "skip_h1_title": false,
   "title_cell": "Table of Contents",
   "title_sidebar": "Contents",
   "toc_cell": false,
   "toc_position": {
    "height": "calc(100% - 180px)",
    "left": "10px",
    "top": "150px",
    "width": "251.2px"
   },
   "toc_section_display": true,
   "toc_window_display": true
  },
  "varInspector": {
   "cols": {
    "lenName": 16,
    "lenType": 16,
    "lenVar": 40
   },
   "kernels_config": {
    "python": {
     "delete_cmd_postfix": "",
     "delete_cmd_prefix": "del ",
     "library": "var_list.py",
     "varRefreshCmd": "print(var_dic_list())"
    },
    "r": {
     "delete_cmd_postfix": ") ",
     "delete_cmd_prefix": "rm(",
     "library": "var_list.r",
     "varRefreshCmd": "cat(var_dic_list()) "
    }
   },
   "types_to_exclude": [
    "module",
    "function",
    "builtin_function_or_method",
    "instance",
    "_Feature"
   ],
   "window_display": false
  }
 },
 "nbformat": 4,
 "nbformat_minor": 2
}
